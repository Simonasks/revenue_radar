{
 "cells": [
  {
   "cell_type": "markdown",
   "metadata": {
    "application/vnd.databricks.v1+cell": {
     "cellMetadata": {},
     "inputWidgets": {},
     "nuid": "d9fad077-1182-45ff-9c0b-cc6af2d10d0c",
     "showTitle": false,
     "tableResultSettingsMap": {},
     "title": ""
    }
   },
   "source": [
    "**Created:** Day 1 – Project Setup\n",
    "\n",
    "**Purpose:** Create Unity Catalog and medallion (bronze, silver, gold) schemas for the Revenue Radar project."
   ]
  },
  {
   "cell_type": "markdown",
   "metadata": {
    "application/vnd.databricks.v1+cell": {
     "cellMetadata": {},
     "inputWidgets": {},
     "nuid": "f0c2f19b-9dd4-494f-8312-1c7a40797722",
     "showTitle": false,
     "tableResultSettingsMap": {},
     "title": ""
    }
   },
   "source": [
    "### Step 1: Create Catalog and Schemas\n",
    "I'll initialize the medallion architecture for the project.  \n",
    "The catalog (`revenue_radar`) will contain three schemas:\n",
    "- **bronze**: raw ingested data  \n",
    "- **silver**: cleaned and validated data  \n",
    "- **gold**: aggregated and analytics-ready data\n"
   ]
  },
  {
   "cell_type": "code",
   "execution_count": 0,
   "metadata": {
    "application/vnd.databricks.v1+cell": {
     "cellMetadata": {
      "byteLimit": 2048000,
      "rowLimit": 10000
     },
     "inputWidgets": {},
     "nuid": "d98c2e3e-7fc7-4ecd-ad00-5f606061f0a7",
     "showTitle": false,
     "tableResultSettingsMap": {},
     "title": ""
    }
   },
   "outputs": [],
   "source": [
    "%sql\n",
    "-- Create a catalog\n",
    "CREATE CATALOG IF NOT EXISTS revenue_radar;\n",
    "\n",
    "-- Create schemas (Bronze, Silver, Gold)\n",
    "CREATE SCHEMA IF NOT EXISTS revenue_radar.bronze;\n",
    "CREATE SCHEMA IF NOT EXISTS revenue_radar.silver;\n",
    "CREATE SCHEMA IF NOT EXISTS revenue_radar.gold;\n"
   ]
  },
  {
   "cell_type": "markdown",
   "metadata": {
    "application/vnd.databricks.v1+cell": {
     "cellMetadata": {},
     "inputWidgets": {},
     "nuid": "4f56e9e9-4342-42b7-bb95-c6850932ce02",
     "showTitle": false,
     "tableResultSettingsMap": {},
     "title": ""
    }
   },
   "source": [
    "### Step 2: Verify\n",
    "I'll verify that the catalog and schemas were created."
   ]
  },
  {
   "cell_type": "code",
   "execution_count": 0,
   "metadata": {
    "application/vnd.databricks.v1+cell": {
     "cellMetadata": {
      "byteLimit": 2048000,
      "rowLimit": 10000
     },
     "inputWidgets": {},
     "nuid": "a16a3ec8-8fb4-4b99-be19-241d3d7d69bd",
     "showTitle": false,
     "tableResultSettingsMap": {},
     "title": ""
    }
   },
   "outputs": [],
   "source": [
    "%sql\n",
    "-- Checks if schemas exist in the catalog\n",
    "SHOW SCHEMAS IN revenue_radar;"
   ]
  },
  {
   "cell_type": "markdown",
   "metadata": {
    "application/vnd.databricks.v1+cell": {
     "cellMetadata": {},
     "inputWidgets": {},
     "nuid": "e6fd5f46-7afa-44b4-9e47-13f086123452",
     "showTitle": false,
     "tableResultSettingsMap": {},
     "title": ""
    }
   },
   "source": [
    "###Step 3: Success\n",
    "The catalog and schemas have been created successfully."
   ]
  }
 ],
 "metadata": {
  "application/vnd.databricks.v1+notebook": {
   "computePreferences": null,
   "dashboards": [],
   "environmentMetadata": {
    "base_environment": "",
    "environment_version": "4"
   },
   "inputWidgetPreferences": null,
   "language": "python",
   "notebookMetadata": {
    "pythonIndentUnit": 4
   },
   "notebookName": "setup_create_medallion_schema",
   "widgets": {}
  },
  "language_info": {
   "name": "python"
  }
 },
 "nbformat": 4,
 "nbformat_minor": 0
}
