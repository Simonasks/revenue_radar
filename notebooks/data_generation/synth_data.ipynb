{
 "cells": [
  {
   "cell_type": "markdown",
   "metadata": {
    "application/vnd.databricks.v1+cell": {
     "cellMetadata": {},
     "inputWidgets": {},
     "nuid": "b5ca28e6-5276-48ae-ad01-4e21302e4cc4",
     "showTitle": false,
     "tableResultSettingsMap": {},
     "title": ""
    }
   },
   "source": [
    "### Revenue Radar - Data Generator\n",
    "**Author:** Simon Ask  \n",
    "**Date:** 2025-10-30  \n",
    "**Purpose:** Generate realistic ecommerce data for this data engineering project.  \n",
    "**Output:** `dbfs:/FileStore/revenue_radar/raw`"
   ]
  },
  {
   "cell_type": "code",
   "execution_count": 0,
   "metadata": {
    "application/vnd.databricks.v1+cell": {
     "cellMetadata": {
      "byteLimit": 2048000,
      "implicitDf": true,
      "rowLimit": 10000
     },
     "inputWidgets": {},
     "nuid": "92dfd516-c588-4941-8a4c-e8ea3c8b500c",
     "showTitle": false,
     "tableResultSettingsMap": {},
     "title": ""
    }
   },
   "outputs": [],
   "source": [
    "%sql\n",
    "-- One-time setup\n",
    "USE CATALOG revenue_radar;\n",
    "CREATE SCHEMA IF NOT EXISTS bronze;\n",
    "\n",
    "-- Create a managed Volume to hold raw CSV drops\n",
    "CREATE VOLUME IF NOT EXISTS revenue_radar.bronze.landing\n",
    "COMMENT 'Raw landing zone for synthetic CSVs';"
   ]
  },
  {
   "cell_type": "code",
   "execution_count": 0,
   "metadata": {
    "application/vnd.databricks.v1+cell": {
     "cellMetadata": {
      "byteLimit": 2048000,
      "rowLimit": 10000
     },
     "inputWidgets": {},
     "nuid": "b8f19b9a-5c9d-4b4a-b872-b738e4539b1e",
     "showTitle": false,
     "tableResultSettingsMap": {},
     "title": ""
    }
   },
   "outputs": [],
   "source": [
    "# --- Config: write into UC Volume ---\n",
    "CATALOG = \"revenue_radar\"\n",
    "SCHEMA  = \"bronze\"\n",
    "VOLUME  = \"landing\"\n",
    "\n",
    "# Root paths inside the Volume\n",
    "PROJECT_ROOT = f\"/Volumes/{CATALOG}/{SCHEMA}/{VOLUME}/revenue_radar\"\n",
    "RAW_ROOT     = f\"{PROJECT_ROOT}/raw\"   # where daily ingest_date folders will go\n",
    "\n",
    "# Simulation parameters\n",
    "SEED        = 42\n",
    "DAYS        = 7\n",
    "START_DATE  = \"2025-10-21\"  # first ingest_date (YYYY-MM-DD)\n",
    "\n",
    "# Context metadata\n",
    "CURRENCY    = \"SEK\"\n",
    "TZ_REPORT   = \"Europe/Stockholm\"\n",
    "COUNTRY     = \"SE\"\n",
    "\n",
    "# --- Environment setup ---\n",
    "dbutils.fs.mkdirs(PROJECT_ROOT)\n",
    "dbutils.fs.mkdirs(RAW_ROOT)\n",
    "\n",
    "import random, math\n",
    "random.seed(SEED)\n",
    "\n",
    "from datetime import datetime, timedelta, timezone\n",
    "import pandas as pd\n",
    "import numpy as np\n",
    "np.random.seed(SEED)\n",
    "\n",
    "# lists project root\n",
    "display(dbutils.fs.ls(PROJECT_ROOT))\n",
    "\n"
   ]
  }
 ],
 "metadata": {
  "application/vnd.databricks.v1+notebook": {
   "computePreferences": null,
   "dashboards": [],
   "environmentMetadata": {
    "base_environment": "",
    "environment_version": "4"
   },
   "inputWidgetPreferences": null,
   "language": "python",
   "notebookMetadata": {
    "mostRecentlyExecutedCommandWithImplicitDF": {
     "commandId": 5972295742671305,
     "dataframes": [
      "_sqldf"
     ]
    },
    "pythonIndentUnit": 4
   },
   "notebookName": "synth_data",
   "widgets": {}
  },
  "language_info": {
   "name": "python"
  }
 },
 "nbformat": 4,
 "nbformat_minor": 0
}
